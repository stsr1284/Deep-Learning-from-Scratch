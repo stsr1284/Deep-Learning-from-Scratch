{
 "cells": [
  {
   "cell_type": "code",
   "execution_count": 2,
   "id": "b241be61",
   "metadata": {},
   "outputs": [],
   "source": [
    "def AND(x1, x2):\n",
    "    w1, w2, theta = 0.5, 0.5, 0.7\n",
    "    tmp = x1 * w1 + x2 * w2\n",
    "    if tmp <= theta:\n",
    "        return 0\n",
    "    else:\n",
    "        return 1"
   ]
  },
  {
   "cell_type": "code",
   "execution_count": 4,
   "id": "f677c394",
   "metadata": {},
   "outputs": [
    {
     "name": "stdout",
     "output_type": "stream",
     "text": [
      "0\n",
      "0\n",
      "0\n",
      "1\n"
     ]
    }
   ],
   "source": [
    "print(AND(0, 0))\n",
    "print(AND(1, 0))\n",
    "print(AND(0, 1))\n",
    "print(AND(1, 1))"
   ]
  },
  {
   "cell_type": "code",
   "execution_count": 10,
   "id": "e793a5ba",
   "metadata": {},
   "outputs": [
    {
     "name": "stdout",
     "output_type": "stream",
     "text": [
      "w * x:  [0.  0.5]\n",
      "w * x:  0.5\n",
      "w * x:  -0.19999999999999996\n"
     ]
    }
   ],
   "source": [
    "import numpy as np\n",
    "x = np.array([0,1]) # 입력\n",
    "w = np.array([0.5, 0.5]) # 가중치\n",
    "b = -0.7 # 편향\n",
    "print(\"w * x: \", w*x)\n",
    "print(\"w * x: \", np.sum(w*x))\n",
    "print(\"w * x: \", np.sum(w*x) + b)"
   ]
  },
  {
   "cell_type": "code",
   "execution_count": 11,
   "id": "aaeef75b",
   "metadata": {},
   "outputs": [],
   "source": [
    "# 편향이 있는 AND 게이트\n",
    "def AND2(x1, x2):\n",
    "    x = np.array([x1, x2]) # 입력\n",
    "    w = np.array([0.5, 0.5]) # 가중치\n",
    "    b = -0.7 # 편향\n",
    "    tmp = np.sum(w * x) + b\n",
    "    if tmp <= 0:\n",
    "        return 0\n",
    "    else:\n",
    "        return 1"
   ]
  },
  {
   "cell_type": "code",
   "execution_count": 12,
   "id": "95d9b5dd",
   "metadata": {},
   "outputs": [],
   "source": [
    "# 편향이 있는 NAND 게이트\n",
    "def NAND(x1, x2):\n",
    "    x = np.array([x1, x2]) # 입력\n",
    "    w = np.array([-0.5, -0.5]) # 가중치\n",
    "    b = 0.7 # 편향\n",
    "    tmp = np.sum(w * x) + b\n",
    "    if tmp <= 0:\n",
    "        return 0\n",
    "    else:\n",
    "        return 1\n",
    "# 편향이 있는 OR 게이트\n",
    "def OR(x1, x2):\n",
    "    x = np.array([x1, x2]) # 입력\n",
    "    w = np.array([0.5, 0.5]) # 가중치\n",
    "    b = -0.2 # 편향\n",
    "    tmp = np.sum(w * x) + b\n",
    "    if tmp <= 0:\n",
    "        return 0\n",
    "    else:\n",
    "        return 1"
   ]
  },
  {
   "cell_type": "code",
   "execution_count": 13,
   "id": "7c49e6d5",
   "metadata": {},
   "outputs": [
    {
     "name": "stdout",
     "output_type": "stream",
     "text": [
      "XOR(0, 0): 0\n",
      "XOR(1, 0): 1\n",
      "XOR(0, 1): 1\n",
      "XOR(1, 1): 0\n"
     ]
    }
   ],
   "source": [
    "# XOR 게이트\n",
    "def XOR(x1, x2):\n",
    "    s1 = NAND(x1, x2) # NAND 게이트\n",
    "    s2 = OR(x1, x2)   # OR 게이트\n",
    "    y = AND(s1, s2)  # AND 게이트\n",
    "    return y\n",
    "\n",
    "print(\"XOR(0, 0):\", XOR(0, 0))\n",
    "print(\"XOR(1, 0):\", XOR(1, 0))\n",
    "print(\"XOR(0, 1):\", XOR(0, 1))\n",
    "print(\"XOR(1, 1):\", XOR(1, 1))"
   ]
  },
  {
   "cell_type": "code",
   "execution_count": null,
   "id": "752c7c3c",
   "metadata": {},
   "outputs": [],
   "source": []
  }
 ],
 "metadata": {
  "kernelspec": {
   "display_name": ".venv",
   "language": "python",
   "name": "python3"
  },
  "language_info": {
   "codemirror_mode": {
    "name": "ipython",
    "version": 3
   },
   "file_extension": ".py",
   "mimetype": "text/x-python",
   "name": "python",
   "nbconvert_exporter": "python",
   "pygments_lexer": "ipython3",
   "version": "3.11.11"
  }
 },
 "nbformat": 4,
 "nbformat_minor": 5
}
