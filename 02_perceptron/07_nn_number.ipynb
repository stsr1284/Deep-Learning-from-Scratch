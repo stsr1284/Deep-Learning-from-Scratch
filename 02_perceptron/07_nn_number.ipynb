{
 "cells": [
  {
   "cell_type": "code",
   "execution_count": 1,
   "id": "a48e1bd7",
   "metadata": {},
   "outputs": [
    {
     "name": "stdout",
     "output_type": "stream",
     "text": [
      "hello World\n"
     ]
    }
   ],
   "source": [
    "print(\"hello World\")"
   ]
  },
  {
   "cell_type": "code",
   "execution_count": null,
   "id": "451b3d75",
   "metadata": {},
   "outputs": [],
   "source": [
    "import torch\n",
    "from torchvision import datasets, transforms\n",
    "\n",
    "\n",
    "# PyTorch 기반 MNIST 데이터셋을 로드하는 함수\n",
    "# tensor로 인해 자동 normalize가 되므로 알아서 전처리 해야됨\n",
    "def load_mnist_torch(normalize=True, flatten=True, one_hot_label=False):\n",
    "    \"\"\"\n",
    "    PyTorch 기반 MNIST 데이터셋을 (x_train, y_train), (x_test, y_test) 형태로 반환\n",
    "\n",
    "    Parameters\n",
    "    ----------\n",
    "    normalize : True이면 0~1 정규화\n",
    "    flatten : True이면 (N, 784), False이면 (N, 1, 28, 28)\n",
    "    one_hot_label : True이면 라벨을 one-hot 인코딩으로 반환\n",
    "\n",
    "    Returns\n",
    "    -------\n",
    "    (x_train, y_train), (x_test, y_test)\n",
    "    \"\"\"\n",
    "\n",
    "    transform_list = []\n",
    "    transform_list.append(transforms.ToTensor())  # 0~1 정규화 포함됨 (기본)\n",
    "    transform = transforms.Compose(transform_list)\n",
    "\n",
    "    train_dataset = datasets.MNIST(\n",
    "        root=\"./data\", train=True, download=True, transform=transform\n",
    "    )\n",
    "    test_dataset = datasets.MNIST(\n",
    "        root=\"./data\", train=False, download=True, transform=transform\n",
    "    )\n",
    "\n",
    "    x_train = torch.stack([data[0] for data in train_dataset])  # [60000, 1, 28, 28]\n",
    "    y_train = torch.tensor([data[1] for data in train_dataset])  # [60000]\n",
    "\n",
    "    x_test = torch.stack([data[0] for data in test_dataset])  # [10000, 1, 28, 28]\n",
    "    y_test = torch.tensor([data[1] for data in test_dataset])  # [10000]\n",
    "\n",
    "    if flatten:\n",
    "        x_train = x_train.view(-1, 28 * 28)  # [60000, 784]\n",
    "        x_test = x_test.view(-1, 28 * 28)  # [10000, 784]\n",
    "\n",
    "    if one_hot_label:\n",
    "        y_train = torch.nn.functional.one_hot(y_train, num_classes=10).float()\n",
    "        y_test = torch.nn.functional.one_hot(y_test, num_classes=10).float()\n",
    "\n",
    "    return (x_train, y_train), (x_test, y_test)"
   ]
  },
  {
   "cell_type": "code",
   "execution_count": 19,
   "id": "c8e043a3",
   "metadata": {},
   "outputs": [
    {
     "name": "stdout",
     "output_type": "stream",
     "text": [
      "x_train shape: torch.Size([60000, 784])\n",
      "y_train shape: torch.Size([60000])\n",
      "x_test shape: torch.Size([10000, 784])\n",
      "y_test shape: torch.Size([10000])\n"
     ]
    }
   ],
   "source": [
    "(x_train, y_train), (x_test, y_test) = load_mnist_torch(\n",
    "    normalize=False, flatten=True, one_hot_label=False\n",
    ")\n",
    "print(\"x_train shape:\", x_train.shape)\n",
    "print(\"y_train shape:\", y_train.shape)\n",
    "print(\"x_test shape:\", x_test.shape)\n",
    "print(\"y_test shape:\", y_test.shape)"
   ]
  },
  {
   "cell_type": "code",
   "execution_count": 28,
   "id": "5b91d01e",
   "metadata": {},
   "outputs": [
    {
     "name": "stdout",
     "output_type": "stream",
     "text": [
      "Label: tensor(2)\n",
      "Image shape: torch.Size([784])\n",
      "img shape: (28, 28)\n"
     ]
    }
   ],
   "source": [
    "# 이미지 시각화\n",
    "from PIL import Image\n",
    "import numpy as np\n",
    "\n",
    "\n",
    "def img_show(img):\n",
    "    pil_img = Image.fromarray(np.uint8(img))\n",
    "    pil_img.show()\n",
    "\n",
    "\n",
    "img = x_train[5]\n",
    "label = y_train[5]\n",
    "print(\"Label:\", label)\n",
    "\n",
    "print(\"Image shape:\", img.shape)\n",
    "img = img.numpy()  # torch → numpy\n",
    "img = img.reshape(28, 28)  # flatten된 경우\n",
    "img = img * 255  # 0~1 → 0~255 범위로 복원\n",
    "img = img.astype(np.uint8)  # PIL 호환을 위한 uint8 변환\n",
    "\n",
    "print(\"img shape:\", img.shape)\n",
    "img_show(img)  # numpy array로 변환하여 시각화"
   ]
  },
  {
   "cell_type": "markdown",
   "id": "5121de04",
   "metadata": {},
   "source": [
    "### 신경망 추론 시작!\n",
    "mnist 데이터셋을 이용한 추론 신경망 구성하기\n",
    "\n",
    "입력층 뉴런: 784개\n",
    "- 이미지 크기가 28 * 28 = 784이기 때문\n",
    "\n",
    "\n",
    "출력층 뉴런: 10개\n",
    "- 0~9까지 이미지의 숫자를 구분하기 때문\n",
    "\n",
    "\n",
    "은닉층 뉴런: 총 2층\n",
    "- 1층 뉴런: 50개\n",
    "- 2층 뉴런: 100개\n",
    "\n",
    "-> 임의로 정함"
   ]
  },
  {
   "cell_type": "code",
   "execution_count": null,
   "id": "fc746858",
   "metadata": {},
   "outputs": [],
   "source": [
    "def sigmoid(x):\n",
    "    \"\"\"\n",
    "    시그모이드 함수\n",
    "    :param x: 입력값\n",
    "    :return: 시그모이드 함수 적용 결과\n",
    "    \"\"\"\n",
    "    return 1 / (1 + np.exp(-x))\n",
    "\n",
    "\n",
    "def softmax(a):\n",
    "    \"\"\"\n",
    "    소프트맥스 함수\n",
    "    :param a: 입력값\n",
    "    :return: 소프트맥스 함수 적용 결과\n",
    "    \"\"\"\n",
    "    c = np.max(a)  # 최대값을 구함\n",
    "    exp_a = np.exp(a - c)  # 최대값을 빼줌\n",
    "    sum_exp_a = np.sum(exp_a)\n",
    "    y = exp_a / sum_exp_a\n",
    "    return y\n",
    "\n",
    "\n",
    "def get_test_data():\n",
    "    \"\"\"\n",
    "    테스트 데이터셋을 반환\n",
    "    \"\"\"\n",
    "    (x_train, y_train), (x_test, y_test) = load_mnist_torch(\n",
    "        normalize=False, flatten=True, one_hot_label=False\n",
    "    )\n",
    "    return x_test, y_test\n",
    "\n",
    "\n",
    "def init_network():\n",
    "    \"\"\"\n",
    "    네트워크 초기화 함수.\n",
    "    sample_weight.pkl 파일에서 네트워크 가중치를 로드하여 초기화\n",
    "    :return: 초기화된 네트워크 딕셔너리\n",
    "    \"\"\"\n",
    "    with open(\"sample_weight.pkl\", \"rb\") as f:\n",
    "        import pickle\n",
    "\n",
    "        network = pickle.load(f)\n",
    "    return network\n",
    "\n",
    "\n",
    "def predict(network, x):\n",
    "    \"\"\"\n",
    "    네트워크를 이용하여 입력 x에 대한 예측을 수행\n",
    "    :param network: 초기화된 네트워크\n",
    "    :param x: 입력 데이터\n",
    "    :return: 예측 결과\n",
    "    \"\"\"\n",
    "    W1, W2, W3 = network[\"W1\"], network[\"W2\"], network[\"W3\"]\n",
    "    b1, b2, b3 = network[\"b1\"], network[\"b2\"], network[\"b3\"]\n",
    "    a1 = np.dot(x, W1) + b1\n",
    "    z1 = sigmoid(a1)\n",
    "    a2 = np.dot(z1, W2) + b2\n",
    "    z2 = sigmoid(a2)\n",
    "    a3 = np.dot(z2, W3) + b3\n",
    "    y = softmax(a3)\n",
    "    return y"
   ]
  },
  {
   "cell_type": "code",
   "execution_count": 30,
   "id": "4bfc9979",
   "metadata": {},
   "outputs": [
    {
     "name": "stderr",
     "output_type": "stream",
     "text": [
      "/var/folders/4g/wtxq72691_zfsk466n11xn780000gn/T/ipykernel_35363/4153201959.py:50: DeprecationWarning: __array__ implementation doesn't accept a copy keyword, so passing copy=False failed. __array__ must implement 'dtype' and 'copy' keyword arguments. To learn more, see the migration guide https://numpy.org/devdocs/numpy_2_0_migration_guide.html#adapting-to-changes-in-the-copy-keyword\n",
      "  a1 = np.dot(x, W1) + b1\n"
     ]
    },
    {
     "name": "stdout",
     "output_type": "stream",
     "text": [
      "Accuracy: 0.9352\n"
     ]
    }
   ],
   "source": [
    "x, t = get_test_data()\n",
    "network = init_network()\n",
    "\n",
    "accuracy_cnt = 0\n",
    "for i in range(len(x)):\n",
    "    y = predict(network, x[i])\n",
    "    p = np.argmax(y)  # 확률이 가장 높은 인덱스 반장\n",
    "    if p == t[i]:  # 정답과 비교\n",
    "        accuracy_cnt += 1\n",
    "\n",
    "print(\"Accuracy:\", float(accuracy_cnt / len(x)))  # 정확도 출력"
   ]
  },
  {
   "cell_type": "code",
   "execution_count": null,
   "id": "41de97c1",
   "metadata": {},
   "outputs": [],
   "source": []
  }
 ],
 "metadata": {
  "kernelspec": {
   "display_name": ".venv",
   "language": "python",
   "name": "python3"
  },
  "language_info": {
   "codemirror_mode": {
    "name": "ipython",
    "version": 3
   },
   "file_extension": ".py",
   "mimetype": "text/x-python",
   "name": "python",
   "nbconvert_exporter": "python",
   "pygments_lexer": "ipython3",
   "version": "3.11.11"
  }
 },
 "nbformat": 4,
 "nbformat_minor": 5
}
