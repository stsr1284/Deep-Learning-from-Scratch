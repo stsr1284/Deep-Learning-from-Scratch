{
 "cells": [
  {
   "cell_type": "code",
   "execution_count": 2,
   "id": "7bd5a029",
   "metadata": {},
   "outputs": [
    {
     "name": "stdout",
     "output_type": "stream",
     "text": [
      "hello World\n"
     ]
    }
   ],
   "source": [
    "print(\"hello World\")"
   ]
  },
  {
   "cell_type": "code",
   "execution_count": null,
   "id": "08ec72f1",
   "metadata": {},
   "outputs": [
    {
     "name": "stdout",
     "output_type": "stream",
     "text": [
      "a:  [0.3 2.9 4. ]\n",
      "exp_a:  [ 1.34985881 18.17414537 54.59815003]\n",
      "sum_exp_a:  74.1221542101633\n",
      "y:  [0.01821127 0.24519181 0.73659691]\n",
      "a[0] / sum_exp_a:  0.018211273295547534\n",
      "a[1] / sum_exp_a:  0.2451918129350739\n",
      "a[2] / sum_exp_a:  0.7365969137693785\n"
     ]
    }
   ],
   "source": [
    "import numpy as np\n",
    "\n",
    "# softmax 함수 예제\n",
    "a = np.array([0.3, 2.9, 4.0])\n",
    "print(\"a: \", a)\n",
    "\n",
    "exp_a = np.exp(a)\n",
    "print(\"exp_a: \", exp_a)\n",
    "\n",
    "sum_exp_a = np.sum(exp_a)\n",
    "print(\"sum_exp_a: \", sum_exp_a)\n",
    "\n",
    "y = exp_a / sum_exp_a\n",
    "print(\"y: \", y)\n",
    "\n",
    "print(\"a[0] / sum_exp_a: \", exp_a[0] / sum_exp_a)\n",
    "print(\"a[1] / sum_exp_a: \", exp_a[1] / sum_exp_a)\n",
    "print(\"a[2] / sum_exp_a: \", exp_a[2] / sum_exp_a)"
   ]
  },
  {
   "cell_type": "code",
   "execution_count": null,
   "id": "7bfff85d",
   "metadata": {},
   "outputs": [],
   "source": [
    "# 소프트맥스 함수 구현\n",
    "\n",
    "\n",
    "def softmax(a):\n",
    "    exp_a = np.exp(a)\n",
    "    sum_exp_a = np.sum(exp_a)\n",
    "    y = exp_a / sum_exp_a\n",
    "    return y"
   ]
  },
  {
   "cell_type": "markdown",
   "id": "8cb3d90a",
   "metadata": {},
   "source": [
    "### 소프트맥스 함수 한계 & 개선\n",
    "소프트맥스는 지수함수를 사용하기 때문에 값이 너무 커지면 `overflow`로 인해 한계가 있다.\n",
    "이를 위해서 분자, 분모에 c만큼 곱하여 변형을 통해서 결과적으로 어떤 정수를 빼서 값을 낮춘다.\n",
    "\n",
    "일반적으로 입력 신호 중 최댓값을 이용한다."
   ]
  },
  {
   "cell_type": "code",
   "execution_count": 13,
   "id": "9ecf1a27",
   "metadata": {},
   "outputs": [
    {
     "name": "stdout",
     "output_type": "stream",
     "text": [
      "y:  [nan nan nan]\n",
      "**********높은 입력 신호로 인한 오버플로우 발생*********\n",
      "\n",
      "최댓값 c:  1010\n",
      "최댓값을 뺀 softmax 결과값\n",
      "y:  [9.99954600e-01 4.53978686e-05 2.06106005e-09]\n"
     ]
    },
    {
     "name": "stderr",
     "output_type": "stream",
     "text": [
      "/var/folders/4g/wtxq72691_zfsk466n11xn780000gn/T/ipykernel_32904/1890276759.py:3: RuntimeWarning: overflow encountered in exp\n",
      "  y = np.exp(a) / np.sum(np.exp(a))  # Overflow 발생 가능\n",
      "/var/folders/4g/wtxq72691_zfsk466n11xn780000gn/T/ipykernel_32904/1890276759.py:3: RuntimeWarning: invalid value encountered in divide\n",
      "  y = np.exp(a) / np.sum(np.exp(a))  # Overflow 발생 가능\n"
     ]
    }
   ],
   "source": [
    "# 높은 값으로 인한 한계점 예시\n",
    "a = np.array([1010, 1000, 990])\n",
    "y = np.exp(a) / np.sum(np.exp(a))  # Overflow 발생 가능\n",
    "print(\"y: \", y)\n",
    "print(\"**********높은 입력 신호로 인한 오버플로우 발생*********\\n\")\n",
    "\n",
    "# 오버플로우 방지 방법\n",
    "c = np.max(a)  # 최대값을 구함\n",
    "y = np.exp(a - c) / np.sum(np.exp(a - c))  # 최대값을 빼줌\n",
    "print(\"최댓값 c: \", c)\n",
    "print(\"최댓값을 뺀 softmax 결과값\")\n",
    "print(\"y: \", y)"
   ]
  },
  {
   "cell_type": "code",
   "execution_count": null,
   "id": "49e99287",
   "metadata": {},
   "outputs": [],
   "source": [
    "# 오버플로우 개선된 소프트맥스 함수 구현\n",
    "\n",
    "\n",
    "def softmax(a):\n",
    "    c = np.max(a)  # 최대값을 구함\n",
    "    exp_a = np.exp(a - c)  # 최대값을 빼줌\n",
    "    sum_exp_a = np.sum(exp_a)\n",
    "    y = exp_a / sum_exp_a\n",
    "    return y"
   ]
  },
  {
   "cell_type": "code",
   "execution_count": 18,
   "id": "833c32c4",
   "metadata": {},
   "outputs": [
    {
     "name": "stdout",
     "output_type": "stream",
     "text": [
      "\n",
      "소프트맥스 특징\n",
      "소프트맥스 출력인 0 ~ 1.0 사이의 실수값\n",
      "출력의 총 합은 1.0\n",
      "\n",
      "softmax(a):  [0.01821127 0.24519181 0.73659691]\n",
      "np.sum(y):  1.0\n"
     ]
    }
   ],
   "source": [
    "# 소프트맥스 특징\n",
    "a = np.array([0.3, 2.9, 4.0])\n",
    "y = softmax(a)\n",
    "\n",
    "print(\"\\n소프트맥스 특징\")\n",
    "print(\"소프트맥스 출력인 0 ~ 1.0 사이의 실수값\")\n",
    "print(\"출력의 총 합은 1.0\\n\")\n",
    "print(\"softmax(a): \", y)\n",
    "print(\"np.sum(y): \", np.sum(y))"
   ]
  },
  {
   "cell_type": "code",
   "execution_count": null,
   "id": "abc7bb4f",
   "metadata": {},
   "outputs": [],
   "source": []
  }
 ],
 "metadata": {
  "kernelspec": {
   "display_name": ".venv",
   "language": "python",
   "name": "python3"
  },
  "language_info": {
   "codemirror_mode": {
    "name": "ipython",
    "version": 3
   },
   "file_extension": ".py",
   "mimetype": "text/x-python",
   "name": "python",
   "nbconvert_exporter": "python",
   "pygments_lexer": "ipython3",
   "version": "3.11.11"
  }
 },
 "nbformat": 4,
 "nbformat_minor": 5
}
