{
 "cells": [
  {
   "cell_type": "code",
   "execution_count": 1,
   "id": "71e72c30",
   "metadata": {},
   "outputs": [
    {
     "name": "stdout",
     "output_type": "stream",
     "text": [
      "Hello World!\n"
     ]
    }
   ],
   "source": [
    "print(\"Hello World!\")"
   ]
  },
  {
   "cell_type": "code",
   "execution_count": null,
   "id": "c841c212",
   "metadata": {},
   "outputs": [
    {
     "name": "stdout",
     "output_type": "stream",
     "text": [
      "W1 shape: (2, 3)\n",
      "X shape: (2,)\n",
      "b1 shape: (3,)\n",
      "A1:  [0.3 0.7 1.1]\n",
      "A1 shape: (3,)\n"
     ]
    }
   ],
   "source": [
    "import numpy as np\n",
    "\n",
    "# 0층 입력층 -> 1층 은닉층\n",
    "X = np.array([1.0, 0.5])\n",
    "W1 = np.array([[0.1, 0.3, 0.5], [0.2, 0.4, 0.6]])\n",
    "b1 = np.array([0.1, 0.2, 0.3])\n",
    "\n",
    "print(\"W1 shape:\", W1.shape)\n",
    "print(\"X shape:\", X.shape)\n",
    "print(\"b1 shape:\", b1.shape)\n",
    "\n",
    "A1 = np.dot(X, W1) + b1\n",
    "print(\"A1 shape:\", A1.shape)\n",
    "print(\"A1: \", A1)"
   ]
  },
  {
   "cell_type": "code",
   "execution_count": 4,
   "id": "bf41c385",
   "metadata": {},
   "outputs": [],
   "source": [
    "def sigmoid(x):\n",
    "    return 1 / (1 + np.exp(-x))"
   ]
  },
  {
   "cell_type": "code",
   "execution_count": 6,
   "id": "4c03e8e3",
   "metadata": {},
   "outputs": [
    {
     "name": "stdout",
     "output_type": "stream",
     "text": [
      "A1: [0.3 0.7 1.1]\n",
      "Z1: [0.57444252 0.66818777 0.75026011]\n"
     ]
    }
   ],
   "source": [
    "# 활성화 함수 적용\n",
    "Z1 = sigmoid(A1)\n",
    "\n",
    "print(\"A1:\", A1)\n",
    "print(\"Z1:\", Z1)"
   ]
  },
  {
   "cell_type": "code",
   "execution_count": null,
   "id": "72938b00",
   "metadata": {},
   "outputs": [
    {
     "name": "stdout",
     "output_type": "stream",
     "text": [
      "Z1 shape: (3,)\n",
      "W2 shape: (3, 2)\n",
      "b2 shape: (2,)\n",
      "A2 shape: (2,)\n",
      "A2:  [0.51615984 1.21402696]\n",
      "Z2 shape: (2,)\n",
      "Z2:  [0.62624937 0.7710107 ]\n"
     ]
    }
   ],
   "source": [
    "# 1층 은닉층 -> 2층 은닉층\n",
    "\n",
    "W2 = np.array([[0.1, 0.4], [0.2, 0.5], [0.3, 0.6]])\n",
    "B2 = np.array([0.1, 0.2])\n",
    "\n",
    "print(\"Z1 shape:\", Z1.shape)\n",
    "print(\"W2 shape:\", W2.shape)\n",
    "print(\"B2 shape:\", B2.shape)\n",
    "\n",
    "A2 = np.dot(Z1, W2) + B2\n",
    "Z2 = sigmoid(A2)\n",
    "print(\"A2 shape:\", A2.shape)\n",
    "print(\"A2: \", A2)\n",
    "print(\"Z2 shape:\", Z2.shape)\n",
    "print(\"Z2: \", Z2)"
   ]
  },
  {
   "cell_type": "code",
   "execution_count": null,
   "id": "6113602c",
   "metadata": {},
   "outputs": [
    {
     "name": "stdout",
     "output_type": "stream",
     "text": [
      "Z2 shape: (2,)\n",
      "W3 shape: (2, 2)\n",
      "B3 shape: (2,)\n",
      "A3 shape: (2,)\n",
      "A3:  [0.31682708 0.69627909]\n",
      "Y shape: (2,)\n",
      "Y:  [0.31682708 0.69627909]\n"
     ]
    }
   ],
   "source": [
    "# 2층 은닉층 -> 3층 출력층\n",
    "\n",
    "\n",
    "def identity_function(x):\n",
    "    return x\n",
    "\n",
    "\n",
    "W3 = np.array([[0.1, 0.3], [0.2, 0.4]])\n",
    "B3 = np.array([0.1, 0.2])\n",
    "print(\"Z2 shape:\", Z2.shape)\n",
    "print(\"W3 shape:\", W3.shape)\n",
    "print(\"B3 shape:\", B3.shape)\n",
    "\n",
    "A3 = np.dot(Z2, W3) + B3\n",
    "Y = identity_function(A3)\n",
    "print(\"A3 shape:\", A3.shape)\n",
    "print(\"A3: \", A3)\n",
    "print(\"Y shape:\", Y.shape)\n",
    "print(\"Y: \", Y)"
   ]
  },
  {
   "cell_type": "markdown",
   "id": "06471b34",
   "metadata": {},
   "source": [
    "### 전체 구현 정리"
   ]
  },
  {
   "cell_type": "code",
   "execution_count": null,
   "id": "c71ad083",
   "metadata": {},
   "outputs": [
    {
     "name": "stdout",
     "output_type": "stream",
     "text": [
      "Network output Y: [0.31682708 0.69627909]\n"
     ]
    }
   ],
   "source": [
    "# 가중치, 편향 초기화\n",
    "def init_network():\n",
    "    network = {}\n",
    "    network[\"W1\"] = np.array([[0.1, 0.3, 0.5], [0.2, 0.4, 0.6]])\n",
    "    network[\"b1\"] = np.array([0.1, 0.2, 0.3])\n",
    "    network[\"W2\"] = np.array([[0.1, 0.4], [0.2, 0.5], [0.3, 0.6]])\n",
    "    network[\"b2\"] = np.array([0.1, 0.2])\n",
    "    network[\"W3\"] = np.array([[0.1, 0.3], [0.2, 0.4]])\n",
    "    network[\"b3\"] = np.array([0.1, 0.2])\n",
    "    return network\n",
    "\n",
    "\n",
    "# 순전파 함수 정의\n",
    "def forword(network, x):\n",
    "    \"\"\"\n",
    "    3층 신경망의 순전파 함수\n",
    "    Args:\n",
    "        network (dict): 신경망의 가중치와 편향을 포함하는 딕셔너리\n",
    "        x (numpy.ndarray): 입력 데이터\n",
    "    \"\"\"\n",
    "    W1, b1 = network[\"W1\"], network[\"b1\"]\n",
    "    W2, b2 = network[\"W2\"], network[\"b2\"]\n",
    "    W3, b3 = network[\"W3\"], network[\"b3\"]\n",
    "\n",
    "    A1 = np.dot(x, W1) + b1\n",
    "    Z1 = sigmoid(A1)\n",
    "\n",
    "    A2 = np.dot(Z1, W2) + b2\n",
    "    Z2 = sigmoid(A2)\n",
    "\n",
    "    A3 = np.dot(Z2, W3) + b3\n",
    "    Y = identity_function(A3)\n",
    "\n",
    "    return Y\n",
    "\n",
    "\n",
    "network = init_network()\n",
    "x = np.array([1.0, 0.5])\n",
    "y = forword(network, x)\n",
    "print(\"Network output Y:\", y)"
   ]
  },
  {
   "cell_type": "code",
   "execution_count": null,
   "id": "da5287c4",
   "metadata": {},
   "outputs": [],
   "source": []
  }
 ],
 "metadata": {
  "kernelspec": {
   "display_name": ".venv",
   "language": "python",
   "name": "python3"
  },
  "language_info": {
   "codemirror_mode": {
    "name": "ipython",
    "version": 3
   },
   "file_extension": ".py",
   "mimetype": "text/x-python",
   "name": "python",
   "nbconvert_exporter": "python",
   "pygments_lexer": "ipython3",
   "version": "3.11.11"
  }
 },
 "nbformat": 4,
 "nbformat_minor": 5
}
