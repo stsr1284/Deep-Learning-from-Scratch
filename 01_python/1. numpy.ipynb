{
 "cells": [
  {
   "cell_type": "code",
   "execution_count": 1,
   "id": "b5a156a9",
   "metadata": {},
   "outputs": [],
   "source": [
    "import numpy as np"
   ]
  },
  {
   "cell_type": "code",
   "execution_count": 6,
   "id": "88e6e989",
   "metadata": {},
   "outputs": [
    {
     "name": "stdout",
     "output_type": "stream",
     "text": [
      "[1 2 3]\n",
      "(3,)\n",
      "<class 'numpy.ndarray'>\n"
     ]
    }
   ],
   "source": [
    "# 배열 생성\n",
    "x = np.array([1, 2, 3])\n",
    "print(x)\n",
    "print(x.shape)\n",
    "print(type(x))"
   ]
  },
  {
   "cell_type": "code",
   "execution_count": null,
   "id": "1426bc72",
   "metadata": {},
   "outputs": [
    {
     "name": "stdout",
     "output_type": "stream",
     "text": [
      "[[1 2 3]\n",
      " [4 5 6]]\n",
      "(2, 3)\n",
      "<class 'numpy.ndarray'>\n"
     ]
    }
   ],
   "source": [
    "# N 배열 생성\n",
    "x = np.array([[1, 2, 3], [4, 5, 6]])\n",
    "print(x)\n",
    "print(x.shape)\n",
    "print(type(x))"
   ]
  },
  {
   "cell_type": "code",
   "execution_count": 14,
   "id": "a62e88e6",
   "metadata": {},
   "outputs": [
    {
     "name": "stdout",
     "output_type": "stream",
     "text": [
      "x:  [1. 2. 3.]\n",
      "y:  [2. 4. 6.]\n",
      "x + y:  [3. 6. 9.]\n",
      "x - y:  [-1. -2. -3.]\n",
      "x * y:  [ 2.  8. 18.]\n",
      "x / y:  [0.5 0.5 0.5]\n"
     ]
    }
   ],
   "source": [
    "# 산술 연산\n",
    "# 배열의 각 원소에 대해 연산을 수산\n",
    "# 원소 수 다르면 오류 발생\n",
    "x = np.array([1.0, 2.0, 3.0])\n",
    "y = np.array([2.0, 4.0, 6.0])\n",
    "print(\"x: \", x)\n",
    "print(\"y: \", y)\n",
    "print(\"x + y: \", x + y)\n",
    "print(\"x - y: \", x - y)\n",
    "print(\"x * y: \", x * y)\n",
    "print(\"x / y: \", x / y)"
   ]
  },
  {
   "cell_type": "code",
   "execution_count": 16,
   "id": "3ccb8e44",
   "metadata": {},
   "outputs": [
    {
     "name": "stdout",
     "output_type": "stream",
     "text": [
      "A:  [[1 2 3]\n",
      " [4 5 6]]\n",
      "B:  [[10 20 30]]\n",
      "A + B:  [[11 22 33]\n",
      " [14 25 36]]\n"
     ]
    }
   ],
   "source": [
    "# 브로드캐스트\n",
    "# 배열의 크기가 다를 때 작은 배열을 큰 배열에 맞춰서 연산\n",
    "A = np.array([[1, 2, 3], [4, 5, 6]])\n",
    "B = np.array([[10, 20, 30]])\n",
    "print(\"A: \", A)\n",
    "print(\"B: \", B)\n",
    "print(\"A + B: \", A + B)"
   ]
  },
  {
   "cell_type": "code",
   "execution_count": null,
   "id": "a9f8fd85",
   "metadata": {},
   "outputs": [
    {
     "name": "stdout",
     "output_type": "stream",
     "text": [
      "[[1 2 3]\n",
      " [4 5 6]]\n",
      "[1 2 3]\n",
      "1\n"
     ]
    }
   ],
   "source": [
    "# 원소 접근 index\n",
    "x = np.array([[1, 2, 3], [4, 5, 6]])\n",
    "print(x)\n",
    "print(x[0])  # 첫 번째 행\n",
    "print(x[0][0])  # 첫 번째 행, 첫 번째 열"
   ]
  },
  {
   "cell_type": "code",
   "execution_count": 20,
   "id": "09a5a3b2",
   "metadata": {},
   "outputs": [
    {
     "name": "stdout",
     "output_type": "stream",
     "text": [
      "[1 2 3]\n",
      "[4 5 6]\n",
      "1\n",
      "2\n",
      "3\n",
      "4\n",
      "5\n",
      "6\n"
     ]
    }
   ],
   "source": [
    "# 원소 접근 for\n",
    "# 행렬의 차원 접근\n",
    "for row in x:\n",
    "    print(row)\n",
    "# 행렬의 원소 접근\n",
    "for row in x:\n",
    "    for col in row:\n",
    "        print(col)"
   ]
  },
  {
   "cell_type": "code",
   "execution_count": 23,
   "id": "b5f71aaa",
   "metadata": {},
   "outputs": [
    {
     "name": "stdout",
     "output_type": "stream",
     "text": [
      "[1 2 3 4 5 6]\n",
      "[1 3 5]\n",
      "원소 합:  9\n",
      "원소 평균:  3.0\n",
      "원소 최대값:  5\n",
      "원소 최소값:  1\n",
      "원소 표준편차:  1.632993161855452\n",
      "원소 분산:  2.6666666666666665\n",
      "원소 중앙값:  3.0\n",
      "원소 1사분위수:  2.0\n",
      "원소 2사분위수:  3.0\n",
      "원소 3사분위수:  4.0\n"
     ]
    }
   ],
   "source": [
    "# 행렬의 평탄화\n",
    "x = x.flatten()\n",
    "print(x)\n",
    "x = np.array([1, 2, 3, 4, 5, 6])\n",
    "# 인덱스 0, 2, 4인 원소 얻기\n",
    "print(x[[0, 2, 4]])\n",
    "# 인덱스 0, 2, 4인 원소의 합\n",
    "print(\"원소 합: \", np.sum(x[[0, 2, 4]]))\n",
    "# 인덱스 0, 2, 4인 원소의 평균\n",
    "print(\"원소 평균: \", np.mean(x[[0, 2, 4]]))\n",
    "# 인덱스 0, 2, 4인 원소의 최대값\n",
    "print(\"원소 최대값: \", np.max(x[[0, 2, 4]]))\n",
    "# 인덱스 0, 2, 4인 원소의 최소값\n",
    "print(\"원소 최소값: \", np.min(x[[0, 2, 4]]))\n",
    "# 인덱스 0, 2, 4인 원소의 표준편차\n",
    "print(\"원소 표준편차: \", np.std(x[[0, 2, 4]]))\n",
    "# 인덱스 0, 2, 4인 원소의 분산\n",
    "print(\"원소 분산: \", np.var(x[[0, 2, 4]]))\n",
    "# 인덱스 0, 2, 4인 원소의 중앙값\n",
    "print(\"원소 중앙값: \", np.median(x[[0, 2, 4]]))\n",
    "# 인덱스 0, 2, 4인 원소의 사분위수\n",
    "print(\"원소 1사분위수: \", np.percentile(x[[0, 2, 4]], 25))  # 1사분위수\n",
    "print(\"원소 2사분위수: \", np.percentile(x[[0, 2, 4]], 50))  # 2사분위수\n",
    "print(\"원소 3사분위수: \", np.percentile(x[[0, 2, 4]], 75))  # 3사분위수"
   ]
  }
 ],
 "metadata": {
  "kernelspec": {
   "display_name": ".venv",
   "language": "python",
   "name": "python3"
  },
  "language_info": {
   "codemirror_mode": {
    "name": "ipython",
    "version": 3
   },
   "file_extension": ".py",
   "mimetype": "text/x-python",
   "name": "python",
   "nbconvert_exporter": "python",
   "pygments_lexer": "ipython3",
   "version": "3.11.11"
  }
 },
 "nbformat": 4,
 "nbformat_minor": 5
}
